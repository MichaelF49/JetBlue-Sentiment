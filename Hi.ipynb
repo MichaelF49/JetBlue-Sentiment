{
 "cells": [
  {
   "cell_type": "markdown",
   "metadata": {},
   "source": [
    "# JetBlue Customer Sentiment\n",
    "\n",
    "## Hypothesis:\n",
    "We believe customer sentiment of JetBlue to be mostly positive, with the occasional yet unavoidable bad experience."
   ]
  },
  {
   "cell_type": "code",
   "execution_count": 267,
   "metadata": {},
   "outputs": [],
   "source": [
    "# Necessary imports\n",
    "import ast\n",
    "import string\n",
    "from vaderSentiment.vaderSentiment import SentimentIntensityAnalyzer\n",
    "from math import sqrt\n",
    "import matplotlib.pyplot as plt\n",
    "plt.rcdefaults()"
   ]
  },
  {
   "cell_type": "code",
   "execution_count": 250,
   "metadata": {},
   "outputs": [],
   "source": [
    "# Parsing and filtering Twitter data from the past year: 10/27/18 - 10/27/19\n",
    "with open('bigdata.txt', encoding='utf8') as f:\n",
    "    lines = f.readlines()\n",
    "    \n",
    "tweets = []\n",
    "dicts = []\n",
    "\n",
    "threshold = 1\n",
    "\n",
    "for string in lines:\n",
    "    dic = ast.literal_eval(string)\n",
    "    if ('jetblue' in dic['tweet'].lower() or 'jet blue' in dic['tweet'].lower()) and 'player of the' not in dic['tweet'].lower() and 'play of the' not in dic['tweet'].lower() and dic['likes_count'] >= threshold:\n",
    "        tweets.append(dic['tweet'])\n",
    "        dicts.append(dic)"
   ]
  },
  {
   "cell_type": "code",
   "execution_count": 251,
   "metadata": {},
   "outputs": [
    {
     "name": "stdout",
     "output_type": "stream",
     "text": [
      "Number of tweets:\n",
      "66008\n",
      "Greatest number of retweets for a tweet:\n",
      "15866\n",
      "Greatest number of likes for a tweet:\n",
      "64534\n"
     ]
    }
   ],
   "source": [
    "print('Number of tweets:')\n",
    "print(len(tweets))\n",
    "print('Greatest number of retweets for a tweet:')\n",
    "print(max([x['retweets_count'] for x in dicts]))\n",
    "print('Greatest number of likes for a tweet:')\n",
    "print(max([x['likes_count'] for x in dicts]))"
   ]
  },
  {
   "cell_type": "code",
   "execution_count": 252,
   "metadata": {},
   "outputs": [],
   "source": [
    "# Analyzing sentiment of all tweets\n",
    "analyzer = SentimentIntensityAnalyzer()\n",
    "perceptions = []\n",
    "for idx, tweet in enumerate(tweets):\n",
    "    \n",
    "    # Calculating sentement, like-count, and retweet-count for the given tweet\n",
    "    s = analyzer.polarity_scores(tweet)['compound']    \n",
    "    l = dicts[idx]['likes_count']\n",
    "    r = dicts[idx]['retweets_count']\n",
    "    \n",
    "    # Calculating the overall public perception score\n",
    "    val = s * sqrt(l + r)\n",
    "    \n",
    "    perceptions.append((val, idx))\n"
   ]
  },
  {
   "cell_type": "code",
   "execution_count": 253,
   "metadata": {},
   "outputs": [
    {
     "name": "stdout",
     "output_type": "stream",
     "text": [
      "Perception of five most negative tweets:\n",
      "[(-123.02739504411204, 32157), (-56.1101323213553, 11847), (-54.2244519308402, 31763), (-46.45583090721767, 14819), (-45.39022125876894, 14818)]\n",
      "Perception of five most positive tweets:\n",
      "[(71.5603705632524, 19007), (78.63425004411246, 48098), (93.0747687131158, 18678), (129.62404498425437, 29853), (180.35989642046263, 35719)]\n"
     ]
    }
   ],
   "source": [
    "# Sorting based on perception\n",
    "sorted_perceptions = sorted(perceptions)\n",
    "print('Perception of five most negative tweets:')\n",
    "print(sorted_perceptions[:5])\n",
    "print('Perception of five most positive tweets:')\n",
    "print(sorted_perceptions[-5:])"
   ]
  },
  {
   "cell_type": "code",
   "execution_count": 290,
   "metadata": {},
   "outputs": [],
   "source": [
    "# Only consider the 20% most positive and 20% most negative data for n-gram model\n",
    "percentage = int(.2 * len(sorted_perceptions))\n",
    "\n",
    "worst_tweets = [tweets[x[1]] for x in sorted_perceptions[:percentage]]\n",
    "best_tweets = [tweets[x[1]] for x in sorted_perceptions[-percentage:]]"
   ]
  },
  {
   "cell_type": "code",
   "execution_count": 291,
   "metadata": {},
   "outputs": [],
   "source": [
    "# Tokenize the tweets\n",
    "\n",
    "punctuation = {'.', ',', '!', '?', '\"', ' '}\n",
    "\n",
    "def tokenize(tweets):\n",
    "    \n",
    "    token_list = []\n",
    "    \n",
    "    for tweet in tweets:\n",
    "        \n",
    "        word = []\n",
    "        \n",
    "        for char in tweet:\n",
    "            if char not in punctuation:\n",
    "                word.append(char)\n",
    "            else:\n",
    "                if word != []:\n",
    "                    token_list.append(''.join(word).lower())\n",
    "                word = []\n",
    "        \n",
    "        if word != []:\n",
    "            token_list.append(''.join(word))\n",
    "        \n",
    "        token_list.append('<temp>')\n",
    "    \n",
    "    return token_list\n",
    "    "
   ]
  },
  {
   "cell_type": "code",
   "execution_count": 292,
   "metadata": {},
   "outputs": [],
   "source": [
    "# Create the n-gram models: uni, bi, tri\n",
    "delete_words = {'<temp>', 'pic', 'twitter', 'https://twitter', 'game'}\n",
    "skip_words = {'hey', 'get', 'jet', 'had', 'out', 'great', 'have', 'all', 'just', 'but', 'as', 'blue', '&', 'yours', 'your', 'was', 'me', 'that', 'be', 'so', 'thanks', 'thank', 'and', 'it', 'and', 'to', 'the', 'a', 'jetblue', '@jetblue', '#jetblue', 'for', 'an', 'i', 'in', 'of', 'on', 'my', 'is', 'you', 'at', 'he', 'she', 'they', 'we', 'with', 'this', 'our', 'from'}\n",
    "\n",
    "def unigrams(tokens):\n",
    "    result = {}\n",
    "    \n",
    "    for token in tokens:\n",
    "        if token not in delete_words and token not in skip_words:\n",
    "            if token not in result:\n",
    "                result[token] = 1\n",
    "            else:\n",
    "                result[token] += 1\n",
    "    return result\n",
    "\n",
    "def bigrams(tokens):\n",
    "    \n",
    "    result = {}\n",
    "    \n",
    "    for token1, token2 in zip(tokens[:-1], tokens[1:]):\n",
    "        if not (token1 in skip_words and token2 in skip_words) and not (token1 in delete_words or token2 in delete_words):\n",
    "            if (token1, token2) not in result:\n",
    "                result[(token1, token2)] = 1\n",
    "            else:\n",
    "                result[(token1, token2)] += 1\n",
    "    return result\n",
    "\n",
    "def trigrams(tokens):\n",
    "    \n",
    "    result = {}\n",
    "    \n",
    "    for token1, token2, token3 in zip(tokens[:-2], tokens[1:-1], tokens[2:]):\n",
    "        if not (token1 in skip_words and token2 in skip_words and token3 in skip_words) and not (token1 in delete_words or token2 in delete_words or token3 in delete_words):\n",
    "            if (token1, token2, token3) not in result:\n",
    "                result[(token1, token2, token3)] = 1\n",
    "            else:\n",
    "                result[(token1, token2, token3)] += 1\n",
    "    return result"
   ]
  },
  {
   "cell_type": "code",
   "execution_count": 293,
   "metadata": {},
   "outputs": [],
   "source": [
    "best_tokens = tokenize(best_tweets)\n",
    "worst_tokens = tokenize(worst_tweets)\n",
    "\n",
    "best_unigram = unigrams(best_tokens)\n",
    "worst_unigram = unigrams(worst_tokens)\n",
    "best_bigram = bigrams(best_tokens)\n",
    "worst_bigram = bigrams(worst_tokens)\n",
    "best_trigram = trigrams(best_tokens)\n",
    "worst_trigram = trigrams(worst_tokens)"
   ]
  },
  {
   "cell_type": "code",
   "execution_count": 294,
   "metadata": {},
   "outputs": [
    {
     "name": "stdout",
     "output_type": "stream",
     "text": [
      "Positive Unigram:\n",
      "[('flight', 3402), ('are', 1388), ('free', 1235), ('love', 1066), ('like', 1018), ('us', 936), ('best', 916), ('service', 876), ('new', 857), ('their', 842), ('time', 833), ('not', 823), ('airline', 805), ('more', 784), ('flying', 762), ('-', 759), ('flights', 752), ('today', 752), ('good', 743), ('now', 738)]\n",
      "\n",
      "Negative Unigram:\n",
      "[('flight', 4944), ('no', 2732), ('not', 1848), ('are', 1624), ('delayed', 1537), ('now', 1413), ('hours', 1140), ('time', 1113), ('plane', 1069), ('has', 1008), ('been', 1003), ('fly', 902), ('i’m', 876), ('or', 870), ('after', 858), ('flights', 855), ('when', 848), ('up', 816), ('delay', 813), ('one', 797)]\n",
      "\n",
      "Positive Bigram:\n",
      "[(('the', 'best'), 606), (('@jetblue', 'flight'), 482), (('customer', 'service'), 387), (('i', 'love'), 375), (('free', 'wifi'), 352), (('my', 'flight'), 341), (('to', 'fly'), 275), (('flight', 'to'), 264), (('i', 'am'), 254), (('to', 'see'), 252), (('the', 'flight'), 239), (('one', 'of'), 235), (('–', 'at'), 233), (('flight', 'attendant'), 217), (('https://www', 'instagram'), 216), (('way', 'to'), 206), (('shout', 'out'), 195), (('the', 'plane'), 189), (('will', 'be'), 188), (('a', 'flight'), 186)]\n",
      "\n",
      "Negative Bigram:\n",
      "[(('my', 'flight'), 624), (('@jetblue', 'flight'), 521), (('jetblue', 'flight'), 392), (('the', 'plane'), 367), (('customer', 'service'), 362), (('a', 'flight'), 348), (('the', 'flight'), 340), (('going', 'to'), 317), (('i', 'am'), 299), (('the', 'worst'), 291), (('has', 'been'), 291), (('flight', 'to'), 291), (('due', 'to'), 257), (('the', 'airport'), 256), (('hour', 'delay'), 240), (('with', 'no'), 237), (('trying', 'to'), 236), (('to', 'fly'), 234), (('and', 'now'), 230), (('flight', 'is'), 221)]\n",
      "\n",
      "Positive Trigram:\n",
      "[(('shout', 'out', 'to'), 177), (('is', 'the', 'best'), 120), (('my', '@jetblue', 'flight'), 100), (('one', 'of', 'the'), 98), (('on', 'the', 'plane'), 91), (('on', 'my', 'flight'), 83), (('at', 'jetblue', 'park'), 82), (('the', 'first', 'time'), 71), (('the', 'best', 'airline'), 70), (('in', 'the', 'air'), 69), (('chance', 'to', 'win'), 69), (('my', 'favorite', 'airline'), 69), (('i', 'love', '@jetblue'), 68), (('for', 'a', 'year'), 66), (('for', 'the', 'first'), 64), (('a', '@jetblue', 'flight'), 60), (('on', '@jetblue', 'flight'), 57), (('free', 'wifi', 'and'), 57), (('@jetblue', 'you', 'are'), 55), (('@jetblue', 'flight', 'to'), 54)]\n",
      "\n",
      "Negative Trigram:\n",
      "[(('on', 'the', 'plane'), 135), (('my', '@jetblue', 'flight'), 110), (('has', 'been', 'delayed'), 105), (('at', 'the', 'airport'), 104), (('a', 'jetblue', 'flight'), 103), (('jet', 'blue', 'flight'), 90), (('flight', 'is', 'delayed'), 90), (('at', 'the', 'gate'), 78), (('was', 'supposed', 'to'), 77), (('flight', 'was', 'delayed'), 76), (('on', 'the', 'tarmac'), 73), (('one', 'of', 'the'), 71), (('accused', 'of', 'drugging'), 68), (('biometric', 'boarding', 'program'), 67), (('is', 'the', 'worst'), 66), (('a', '@jetblue', 'flight'), 66), (('my', 'flight', 'to'), 66), (('trying', 'to', 'get'), 65), (('sitting', 'on', 'the'), 65), (('on', 'a', 'plane'), 63)]\n",
      "\n",
      "Notable positive examples: \n",
      "\"customer service\", \"free wifi\", \"flight attendant\", \"to boston\"\n",
      "\n",
      "Notable negative examples: \n",
      "\"customer service\", \"hour delay\", \"new york\", \"to jfk\", \"flight attendants\", \"jetblue pilots\"\n",
      "\"on the tarmac\", \"pilots accused of drugging ...\", \"biased biometric boarding program ...\"\n"
     ]
    }
   ],
   "source": [
    "def get_n_greatest(gram, n):\n",
    "    lst = sorted(list(gram.items()), key=lambda x: x[1], reverse=True)\n",
    "    return lst[:n]\n",
    "\n",
    "\n",
    "print('Positive Unigram:')\n",
    "print(get_n_greatest(best_unigram, 20))\n",
    "print('\\nNegative Unigram:')\n",
    "print(get_n_greatest(worst_unigram, 20))\n",
    "print('\\nPositive Bigram:')\n",
    "print(get_n_greatest(best_bigram, 20))\n",
    "print('\\nNegative Bigram:')\n",
    "print(get_n_greatest(worst_bigram, 20))\n",
    "print('\\nPositive Trigram:')\n",
    "print(get_n_greatest(best_trigram, 20))\n",
    "print('\\nNegative Trigram:')\n",
    "print(get_n_greatest(worst_trigram, 20))\n",
    "\n",
    "print('\\nNotable positive examples: ')\n",
    "print('\"customer service\", \"free wifi\", \"flight attendant\", \"to boston\"')\n",
    "print('\\nNotable negative examples: ')\n",
    "print('\"customer service\", \"hour delay\", \"new york\", \"to jfk\", \"flight attendants\", \"jetblue pilots\"')\n",
    "print('\"on the tarmac\", \"pilots accused of drugging ...\", \"biased biometric boarding program ...\"')"
   ]
  },
  {
   "cell_type": "code",
   "execution_count": 286,
   "metadata": {},
   "outputs": [],
   "source": [
    "# Check time-based perception data for days\n",
    "week_day = dicts[-1]['date'].split('-')[2]\n",
    "day_num = 0\n",
    "totals = []\n",
    "total = 0\n",
    "\n",
    "for idx, dict_data in enumerate(dicts[::-1]):\n",
    "    date = dict_data['date']\n",
    "    _, _, day = date.split('-')\n",
    "    if day != week_day:\n",
    "        week_day = day\n",
    "        totals.append(total)\n",
    "        total = 0\n",
    "    else:\n",
    "        total += perceptions[idx][0]\n",
    "\n",
    "if day_num != 0:\n",
    "    totals.append(total)"
   ]
  },
  {
   "cell_type": "code",
   "execution_count": 287,
   "metadata": {},
   "outputs": [
    {
     "data": {
      "image/png": "[encoded data removed]",
      "text/plain": [
       "<Figure size 640x480 with 1 Axes>"
      ]
     },
     "metadata": {},
     "output_type": "display_data"
    }
   ],
   "source": [
    "plt.bar(range(len(totals)), totals, align='center', alpha=0.5)\n",
    "plt.ylabel('Public Perception')\n",
    "plt.xlabel('Days since 10/27/2018')\n",
    "plt.title('Public Perception over Day-Long Periods')\n",
    "\n",
    "plt.show()"
   ]
  },
  {
   "cell_type": "code",
   "execution_count": 288,
   "metadata": {},
   "outputs": [],
   "source": [
    "# Check time-based perception data for weeks\n",
    "week_day = dicts[-1]['date'].split('-')[2]\n",
    "day_num = 0\n",
    "totals = []\n",
    "total = 0\n",
    "\n",
    "for idx, dict_data in enumerate(dicts[::-1]):\n",
    "    date = dict_data['date']\n",
    "    _, _, day = date.split('-')\n",
    "    if day != week_day:\n",
    "        day_num += 1\n",
    "        week_day = day\n",
    "    if day_num == 7:\n",
    "        day_num = 0\n",
    "        totals.append(total)\n",
    "        total = 0\n",
    "    else:\n",
    "        total += perceptions[idx][0]\n",
    "\n",
    "if day_num != 0:\n",
    "    totals.append(total)\n"
   ]
  },
  {
   "cell_type": "code",
   "execution_count": 289,
   "metadata": {},
   "outputs": [
    {
     "data": {
      "image/png": "[encoded data removed]",
      "text/plain": [
       "<Figure size 640x480 with 1 Axes>"
      ]
     },
     "metadata": {},
     "output_type": "display_data"
    }
   ],
   "source": [
    "plt.bar(range(len(dates)), totals, align='center', alpha=0.5)\n",
    "# plt.xticks(range(len(dates)), dates)\n",
    "plt.ylabel('Public Perception')\n",
    "plt.xlabel('Weeks since 10/27/2018')\n",
    "plt.title('Public Perception over Week-Long Periods')\n",
    "\n",
    "plt.show()"
   ]
  },
  {
   "cell_type": "raw",
   "metadata": {},
   "source": [
    "# Recommendations for JetBlue\n",
    "The overall customer sentiment of JetBlue seems to be generally very positive according to the data we have found above. This being said, the areas in need of most genereal and preventable improval are customer service, New York-related flights, and the occasional rude employee aboard the airplane (pilot, flight attendant). It also seems that the occasional scandal fires up the media; in the case of the biometric boarding program and the pilots accused of drugging and raping female flight attendants, the public perception of JetBlue temporararily plummeted. \n",
    "\n",
    "To prevent this from happening in the future, we'd recommend JetBlue remains transparent in their new business practices and implementations, making sure that customers are aware of and can easily opt-out of these new features. Additionally, addressing the claims of drugging and rape (and other potential similar incidents) must be dealt with swiftly and elegantly; when such a tragedy beyond JetBlue's immediate control occurs, the public looks toward JetBlue to give some explanation. \n",
    "JetBlue seems to get some inconsist sentiment in terms of how people perceive customer service; many people have good experiences and many people have bad experiences. To ensure a positive customer service experience with each and every customer, we'd recommend reaching out to the customers who've had bad experiences, whether it be through Twitter or elsewhere, to try and figure out if there are any trends in location, type of experience, etc. JetBlue could then take appropriate action, from retraining individuals in certain airports to making policies more clear for all.\n",
    "\n",
    "All the recommendations aside, the public sentiment of JetBlue truly seems to be almost always positive. It has consistently bounced-back from every scandal with no loss in customer sentiment, and hasn't even had a single week in the last year that we've found more negative public perception than positive. Overall, we think JetBlue is doing a great job in the customers' eyes, and should continue to strive to be such a company.\n"
   ]
  },
  {
   "cell_type": "code",
   "execution_count": null,
   "metadata": {},
   "outputs": [],
   "source": []
  }
 ],
 "metadata": {
  "kernelspec": {
   "display_name": "Python 3",
   "language": "python",
   "name": "python3"
  },
  "language_info": {
   "codemirror_mode": {
    "name": "ipython",
    "version": 3
   },
   "file_extension": ".py",
   "mimetype": "text/x-python",
   "name": "python",
   "nbconvert_exporter": "python",
   "pygments_lexer": "ipython3",
   "version": "3.6.0"
  }
 },
 "nbformat": 4,
 "nbformat_minor": 2
}
